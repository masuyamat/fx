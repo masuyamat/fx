{
 "cells": [
  {
   "cell_type": "code",
   "execution_count": 73,
   "metadata": {},
   "outputs": [],
   "source": [
    "# API接続設定のファイルを読み込む\n",
    "import configparser"
   ]
  },
  {
   "cell_type": "code",
   "execution_count": 74,
   "metadata": {},
   "outputs": [
    {
     "data": {
      "text/plain": [
       "<function talib.get_function_groups()>"
      ]
     },
     "execution_count": 74,
     "metadata": {},
     "output_type": "execute_result"
    }
   ],
   "source": [
    "# ライブラリのインポート\n",
    "import pandas as pd\n",
    "import numpy as np\n",
    "import seaborn\n",
    "import datetime\n",
    "import talib as ta\n",
    "ta.get_function_groups"
   ]
  },
  {
   "cell_type": "code",
   "execution_count": 75,
   "metadata": {},
   "outputs": [],
   "source": [
    "# ローソク足描写\n",
    "# 事前に \" pip install https://github.com/matplotlib/mpl_finance/archive/master.zip\"が必要\n",
    "\n",
    "\n",
    "import matplotlib.pyplot as plt\n",
    "import mpl_finance as mpf # 最近はこのモジュール\n",
    "from mpl_finance import candlestick2_ohlc\n",
    "from matplotlib import ticker\n",
    "import matplotlib.dates as mdates\n",
    "%matplotlib inline"
   ]
  },
  {
   "cell_type": "code",
   "execution_count": 76,
   "metadata": {},
   "outputs": [],
   "source": [
    "# データの読み込み\n",
    "masta = pd.read_csv(\"api-usdjpy-M1-20190302.csv\")\n",
    "df = masta.copy()\n",
    "chart = masta.copy()"
   ]
  },
  {
   "cell_type": "code",
   "execution_count": 78,
   "metadata": {},
   "outputs": [
    {
     "data": {
      "text/html": [
       "<div>\n",
       "<style scoped>\n",
       "    .dataframe tbody tr th:only-of-type {\n",
       "        vertical-align: middle;\n",
       "    }\n",
       "\n",
       "    .dataframe tbody tr th {\n",
       "        vertical-align: top;\n",
       "    }\n",
       "\n",
       "    .dataframe thead th {\n",
       "        text-align: right;\n",
       "    }\n",
       "</style>\n",
       "<table border=\"1\" class=\"dataframe\">\n",
       "  <thead>\n",
       "    <tr style=\"text-align: right;\">\n",
       "      <th></th>\n",
       "      <th>time</th>\n",
       "      <th>open</th>\n",
       "      <th>high</th>\n",
       "      <th>low</th>\n",
       "      <th>close</th>\n",
       "    </tr>\n",
       "  </thead>\n",
       "  <tbody>\n",
       "    <tr>\n",
       "      <th>0</th>\n",
       "      <td>2019-01-14 04:30:00</td>\n",
       "      <td>108.136</td>\n",
       "      <td>108.140</td>\n",
       "      <td>108.130</td>\n",
       "      <td>108.140</td>\n",
       "    </tr>\n",
       "    <tr>\n",
       "      <th>1</th>\n",
       "      <td>2019-01-14 04:40:00</td>\n",
       "      <td>108.138</td>\n",
       "      <td>108.144</td>\n",
       "      <td>108.131</td>\n",
       "      <td>108.136</td>\n",
       "    </tr>\n",
       "    <tr>\n",
       "      <th>2</th>\n",
       "      <td>2019-01-14 04:50:00</td>\n",
       "      <td>108.138</td>\n",
       "      <td>108.138</td>\n",
       "      <td>108.116</td>\n",
       "      <td>108.117</td>\n",
       "    </tr>\n",
       "    <tr>\n",
       "      <th>3</th>\n",
       "      <td>2019-01-14 05:00:00</td>\n",
       "      <td>108.114</td>\n",
       "      <td>108.116</td>\n",
       "      <td>108.088</td>\n",
       "      <td>108.114</td>\n",
       "    </tr>\n",
       "    <tr>\n",
       "      <th>4</th>\n",
       "      <td>2019-01-14 05:10:00</td>\n",
       "      <td>108.111</td>\n",
       "      <td>108.111</td>\n",
       "      <td>108.086</td>\n",
       "      <td>108.098</td>\n",
       "    </tr>\n",
       "  </tbody>\n",
       "</table>\n",
       "</div>"
      ],
      "text/plain": [
       "                  time     open     high      low    close\n",
       "0  2019-01-14 04:30:00  108.136  108.140  108.130  108.140\n",
       "1  2019-01-14 04:40:00  108.138  108.144  108.131  108.136\n",
       "2  2019-01-14 04:50:00  108.138  108.138  108.116  108.117\n",
       "3  2019-01-14 05:00:00  108.114  108.116  108.088  108.114\n",
       "4  2019-01-14 05:10:00  108.111  108.111  108.086  108.098"
      ]
     },
     "execution_count": 78,
     "metadata": {},
     "output_type": "execute_result"
    }
   ],
   "source": [
    "# データの日付をインデックスとして扱う\n",
    "df.index = pd.to_datetime(df.time)\n",
    "\n",
    "#不要な列を削除\n",
    "del df['volume']\n",
    "del df['time']\n",
    "df.head()"
   ]
  },
  {
   "cell_type": "code",
   "execution_count": 79,
   "metadata": {},
   "outputs": [],
   "source": []
  },
  {
   "cell_type": "code",
   "execution_count": 80,
   "metadata": {},
   "outputs": [],
   "source": [
    "# ローソク足チャート\n",
    "def candlechart(data, width=0.8):\n",
    "    fig, ax = plt.subplots()\n",
    " \n",
    "    # ローソク足\n",
    "    mpf.candlestick2_ohlc(ax, opens=data.open.values, closes=data.close.values,\n",
    "                          lows=data.low.values, highs=data.high.values,\n",
    "                          width=width, colorup='r', colordown='b')\n",
    " \n",
    "    xdate = data.index\n",
    "    ax.xaxis.set_major_locator(ticker.MaxNLocator(20))\n",
    " \n",
    "    def mydate(x, pos):\n",
    "        try:\n",
    "            return xdate[int(x)]\n",
    "        except IndexError:\n",
    "            return ''\n",
    " \n",
    "    ax.xaxis.set_major_formatter(ticker.FuncFormatter(mydate))\n",
    "    ax.format_xdata = mdates.DateFormatter('%m-%d')\n",
    " \n",
    "    fig.autofmt_xdate()\n",
    "    fig.tight_layout()\n",
    " \n",
    "    return fig, ax"
   ]
  },
  {
   "cell_type": "code",
   "execution_count": 81,
   "metadata": {},
   "outputs": [],
   "source": [
    "# カラム名を短く変更\n",
    "# df.columns = ['t', 'o', 'h', 'l', 'c'] #一旦削除"
   ]
  },
  {
   "cell_type": "code",
   "execution_count": 82,
   "metadata": {},
   "outputs": [],
   "source": [
    "# OHLCデータをNumpy配列へ変換\n",
    "o = np.array(df['open'])\n",
    "c = np.array(df['close'])\n",
    "l = np.array(df['low'])\n",
    "h = np.array(df['high'])"
   ]
  },
  {
   "cell_type": "code",
   "execution_count": 83,
   "metadata": {},
   "outputs": [],
   "source": [
    "# 4種類のローソク足パターンを抽出\n",
    "df['Marubozu'] = ta.CDLMARUBOZU(o, h, l, c)\n",
    "df['Engulfing_Pattern'] = ta.CDLENGULFING(o, h, l, c)\n",
    "df['Hammer'] = ta.CDLHAMMER(o, h, l, c)\n",
    "df['Dragonfly_Doji'] = ta.CDLDRAGONFLYDOJI(o, h, l, c)"
   ]
  },
  {
   "cell_type": "code",
   "execution_count": 84,
   "metadata": {},
   "outputs": [
    {
     "data": {
      "text/html": [
       "<div>\n",
       "<style scoped>\n",
       "    .dataframe tbody tr th:only-of-type {\n",
       "        vertical-align: middle;\n",
       "    }\n",
       "\n",
       "    .dataframe tbody tr th {\n",
       "        vertical-align: top;\n",
       "    }\n",
       "\n",
       "    .dataframe thead th {\n",
       "        text-align: right;\n",
       "    }\n",
       "</style>\n",
       "<table border=\"1\" class=\"dataframe\">\n",
       "  <thead>\n",
       "    <tr style=\"text-align: right;\">\n",
       "      <th></th>\n",
       "      <th>time</th>\n",
       "      <th>open</th>\n",
       "      <th>high</th>\n",
       "      <th>low</th>\n",
       "      <th>close</th>\n",
       "      <th>Marubozu</th>\n",
       "      <th>Engulfing_Pattern</th>\n",
       "      <th>Hammer</th>\n",
       "      <th>Dragonfly_Doji</th>\n",
       "    </tr>\n",
       "    <tr>\n",
       "      <th>time</th>\n",
       "      <th></th>\n",
       "      <th></th>\n",
       "      <th></th>\n",
       "      <th></th>\n",
       "      <th></th>\n",
       "      <th></th>\n",
       "      <th></th>\n",
       "      <th></th>\n",
       "      <th></th>\n",
       "    </tr>\n",
       "  </thead>\n",
       "  <tbody>\n",
       "    <tr>\n",
       "      <th>2019-01-14 06:10:00</th>\n",
       "      <td>2019-01-14 06:10:00</td>\n",
       "      <td>108.108</td>\n",
       "      <td>108.108</td>\n",
       "      <td>108.091</td>\n",
       "      <td>108.091</td>\n",
       "      <td>-100</td>\n",
       "      <td>0</td>\n",
       "      <td>0</td>\n",
       "      <td>0</td>\n",
       "    </tr>\n",
       "    <tr>\n",
       "      <th>2019-01-14 06:20:00</th>\n",
       "      <td>2019-01-14 06:20:00</td>\n",
       "      <td>108.089</td>\n",
       "      <td>108.090</td>\n",
       "      <td>108.044</td>\n",
       "      <td>108.084</td>\n",
       "      <td>0</td>\n",
       "      <td>0</td>\n",
       "      <td>100</td>\n",
       "      <td>0</td>\n",
       "    </tr>\n",
       "    <tr>\n",
       "      <th>2019-01-14 06:30:00</th>\n",
       "      <td>2019-01-14 06:30:00</td>\n",
       "      <td>108.082</td>\n",
       "      <td>108.114</td>\n",
       "      <td>108.082</td>\n",
       "      <td>108.110</td>\n",
       "      <td>0</td>\n",
       "      <td>100</td>\n",
       "      <td>0</td>\n",
       "      <td>0</td>\n",
       "    </tr>\n",
       "    <tr>\n",
       "      <th>2019-01-14 06:40:00</th>\n",
       "      <td>2019-01-14 06:40:00</td>\n",
       "      <td>108.112</td>\n",
       "      <td>108.144</td>\n",
       "      <td>108.109</td>\n",
       "      <td>108.138</td>\n",
       "      <td>0</td>\n",
       "      <td>0</td>\n",
       "      <td>0</td>\n",
       "      <td>0</td>\n",
       "    </tr>\n",
       "    <tr>\n",
       "      <th>2019-01-14 06:50:00</th>\n",
       "      <td>2019-01-14 06:50:00</td>\n",
       "      <td>108.140</td>\n",
       "      <td>108.140</td>\n",
       "      <td>108.120</td>\n",
       "      <td>108.132</td>\n",
       "      <td>0</td>\n",
       "      <td>0</td>\n",
       "      <td>0</td>\n",
       "      <td>0</td>\n",
       "    </tr>\n",
       "  </tbody>\n",
       "</table>\n",
       "</div>"
      ],
      "text/plain": [
       "                                    time     open     high      low    close  \\\n",
       "time                                                                           \n",
       "2019-01-14 06:10:00  2019-01-14 06:10:00  108.108  108.108  108.091  108.091   \n",
       "2019-01-14 06:20:00  2019-01-14 06:20:00  108.089  108.090  108.044  108.084   \n",
       "2019-01-14 06:30:00  2019-01-14 06:30:00  108.082  108.114  108.082  108.110   \n",
       "2019-01-14 06:40:00  2019-01-14 06:40:00  108.112  108.144  108.109  108.138   \n",
       "2019-01-14 06:50:00  2019-01-14 06:50:00  108.140  108.140  108.120  108.132   \n",
       "\n",
       "                     Marubozu  Engulfing_Pattern  Hammer  Dragonfly_Doji  \n",
       "time                                                                      \n",
       "2019-01-14 06:10:00      -100                  0       0               0  \n",
       "2019-01-14 06:20:00         0                  0     100               0  \n",
       "2019-01-14 06:30:00         0                100       0               0  \n",
       "2019-01-14 06:40:00         0                  0       0               0  \n",
       "2019-01-14 06:50:00         0                  0       0               0  "
      ]
     },
     "execution_count": 84,
     "metadata": {},
     "output_type": "execute_result"
    }
   ],
   "source": [
    "# データの確認\n",
    "df[10:15]"
   ]
  },
  {
   "cell_type": "code",
   "execution_count": 85,
   "metadata": {},
   "outputs": [
    {
     "data": {
      "text/html": [
       "<div>\n",
       "<style scoped>\n",
       "    .dataframe tbody tr th:only-of-type {\n",
       "        vertical-align: middle;\n",
       "    }\n",
       "\n",
       "    .dataframe tbody tr th {\n",
       "        vertical-align: top;\n",
       "    }\n",
       "\n",
       "    .dataframe thead th {\n",
       "        text-align: right;\n",
       "    }\n",
       "</style>\n",
       "<table border=\"1\" class=\"dataframe\">\n",
       "  <thead>\n",
       "    <tr style=\"text-align: right;\">\n",
       "      <th></th>\n",
       "      <th>time</th>\n",
       "      <th>open</th>\n",
       "      <th>high</th>\n",
       "      <th>low</th>\n",
       "      <th>close</th>\n",
       "      <th>Marubozu</th>\n",
       "      <th>Engulfing_Pattern</th>\n",
       "      <th>Hammer</th>\n",
       "      <th>Dragonfly_Doji</th>\n",
       "    </tr>\n",
       "    <tr>\n",
       "      <th>time</th>\n",
       "      <th></th>\n",
       "      <th></th>\n",
       "      <th></th>\n",
       "      <th></th>\n",
       "      <th></th>\n",
       "      <th></th>\n",
       "      <th></th>\n",
       "      <th></th>\n",
       "      <th></th>\n",
       "    </tr>\n",
       "  </thead>\n",
       "  <tbody>\n",
       "    <tr>\n",
       "      <th>2019-01-14 06:10:00</th>\n",
       "      <td>2019-01-14 06:10:00</td>\n",
       "      <td>108.108</td>\n",
       "      <td>108.108</td>\n",
       "      <td>108.091</td>\n",
       "      <td>108.091</td>\n",
       "      <td>-100</td>\n",
       "      <td>0</td>\n",
       "      <td>0</td>\n",
       "      <td>0</td>\n",
       "    </tr>\n",
       "    <tr>\n",
       "      <th>2019-01-14 09:00:00</th>\n",
       "      <td>2019-01-14 09:00:00</td>\n",
       "      <td>108.200</td>\n",
       "      <td>108.200</td>\n",
       "      <td>108.156</td>\n",
       "      <td>108.156</td>\n",
       "      <td>-100</td>\n",
       "      <td>0</td>\n",
       "      <td>0</td>\n",
       "      <td>0</td>\n",
       "    </tr>\n",
       "    <tr>\n",
       "      <th>2019-01-14 10:20:00</th>\n",
       "      <td>2019-01-14 10:20:00</td>\n",
       "      <td>108.086</td>\n",
       "      <td>108.125</td>\n",
       "      <td>108.082</td>\n",
       "      <td>108.122</td>\n",
       "      <td>100</td>\n",
       "      <td>100</td>\n",
       "      <td>0</td>\n",
       "      <td>0</td>\n",
       "    </tr>\n",
       "    <tr>\n",
       "      <th>2019-01-14 10:40:00</th>\n",
       "      <td>2019-01-14 10:40:00</td>\n",
       "      <td>108.108</td>\n",
       "      <td>108.148</td>\n",
       "      <td>108.108</td>\n",
       "      <td>108.148</td>\n",
       "      <td>100</td>\n",
       "      <td>0</td>\n",
       "      <td>0</td>\n",
       "      <td>0</td>\n",
       "    </tr>\n",
       "    <tr>\n",
       "      <th>2019-01-14 11:00:00</th>\n",
       "      <td>2019-01-14 11:00:00</td>\n",
       "      <td>108.154</td>\n",
       "      <td>108.157</td>\n",
       "      <td>108.110</td>\n",
       "      <td>108.111</td>\n",
       "      <td>-100</td>\n",
       "      <td>0</td>\n",
       "      <td>0</td>\n",
       "      <td>0</td>\n",
       "    </tr>\n",
       "  </tbody>\n",
       "</table>\n",
       "</div>"
      ],
      "text/plain": [
       "                                    time     open     high      low    close  \\\n",
       "time                                                                           \n",
       "2019-01-14 06:10:00  2019-01-14 06:10:00  108.108  108.108  108.091  108.091   \n",
       "2019-01-14 09:00:00  2019-01-14 09:00:00  108.200  108.200  108.156  108.156   \n",
       "2019-01-14 10:20:00  2019-01-14 10:20:00  108.086  108.125  108.082  108.122   \n",
       "2019-01-14 10:40:00  2019-01-14 10:40:00  108.108  108.148  108.108  108.148   \n",
       "2019-01-14 11:00:00  2019-01-14 11:00:00  108.154  108.157  108.110  108.111   \n",
       "\n",
       "                     Marubozu  Engulfing_Pattern  Hammer  Dragonfly_Doji  \n",
       "time                                                                      \n",
       "2019-01-14 06:10:00      -100                  0       0               0  \n",
       "2019-01-14 09:00:00      -100                  0       0               0  \n",
       "2019-01-14 10:20:00       100                100       0               0  \n",
       "2019-01-14 10:40:00       100                  0       0               0  \n",
       "2019-01-14 11:00:00      -100                  0       0               0  "
      ]
     },
     "execution_count": 85,
     "metadata": {},
     "output_type": "execute_result"
    }
   ],
   "source": [
    "#丸坊主のデータを確認\n",
    "df[(df['Marubozu'] < 0) | (df['Marubozu'] > 0)].head()"
   ]
  },
  {
   "cell_type": "code",
   "execution_count": 86,
   "metadata": {},
   "outputs": [
    {
     "data": {
      "text/plain": [
       "100"
      ]
     },
     "execution_count": 86,
     "metadata": {},
     "output_type": "execute_result"
    }
   ],
   "source": [
    "# 丸坊主のデータを確認\n",
    "df['Marubozu'].loc['2019-01-14 10:20:00']"
   ]
  },
  {
   "cell_type": "code",
   "execution_count": 91,
   "metadata": {},
   "outputs": [
    {
     "data": {
      "text/plain": [
       "(<Figure size 432x288 with 1 Axes>,\n",
       " <matplotlib.axes._subplots.AxesSubplot at 0x28c7fe53ac8>)"
      ]
     },
     "execution_count": 91,
     "metadata": {},
     "output_type": "execute_result"
    },
    {
     "data": {
      "image/png": "[encoded data removed]",
      "text/plain": [
       "<Figure size 432x288 with 1 Axes>"
      ]
     },
     "metadata": {},
     "output_type": "display_data"
    }
   ],
   "source": [
    "# 丸坊主 陽線の位置を確認\n",
    "set_time = datetime.datetime.strptime('2019-01-14 10:20:00', '%Y-%m-%d %H:%M:%S')\n",
    "before = set_time - datetime.timedelta(hours=10)\n",
    "after = set_time + datetime.timedelta(hours=10)\n",
    "candlechart(df.loc[(df.index > before )&(df.index < after)])"
   ]
  },
  {
   "cell_type": "code",
   "execution_count": 93,
   "metadata": {},
   "outputs": [
    {
     "data": {
      "text/plain": [
       "(<Figure size 432x288 with 1 Axes>,\n",
       " <matplotlib.axes._subplots.AxesSubplot at 0x28c01412198>)"
      ]
     },
     "execution_count": 93,
     "metadata": {},
     "output_type": "execute_result"
    },
    {
     "data": {
      "image/png": "[encoded data removed]",
      "text/plain": [
       "<Figure size 432x288 with 1 Axes>"
      ]
     },
     "metadata": {},
     "output_type": "display_data"
    }
   ],
   "source": [
    "# 陽線 包み線が出る前後を表示\n",
    "set_time = datetime.datetime.strptime('2019-01-14 06:30:00', '%Y-%m-%d %H:%M:%S')\n",
    "before = set_time - datetime.timedelta(hours=10)\n",
    "after = set_time + datetime.timedelta(hours=10)\n",
    "candlechart(df.loc[(df.index > before )&(df.index < after)])"
   ]
  },
  {
   "cell_type": "code",
   "execution_count": 95,
   "metadata": {},
   "outputs": [
    {
     "data": {
      "text/plain": [
       "(<Figure size 432x288 with 1 Axes>,\n",
       " <matplotlib.axes._subplots.AxesSubplot at 0x28c014ba6a0>)"
      ]
     },
     "execution_count": 95,
     "metadata": {},
     "output_type": "execute_result"
    },
    {
     "data": {
      "image/png": "[encoded data removed]",
      "text/plain": [
       "<Figure size 432x288 with 1 Axes>"
      ]
     },
     "metadata": {},
     "output_type": "display_data"
    }
   ],
   "source": [
    "# 陽線 カラカサ\n",
    "set_time = datetime.datetime.strptime('2019-01-14 06:20:00', '%Y-%m-%d %H:%M:%S')\n",
    "before = set_time - datetime.timedelta(hours=10)\n",
    "after = set_time + datetime.timedelta(hours=10)\n",
    "candlechart(df.loc[(df.index > before )&(df.index < after)])"
   ]
  },
  {
   "cell_type": "code",
   "execution_count": null,
   "metadata": {},
   "outputs": [],
   "source": []
  },
  {
   "cell_type": "code",
   "execution_count": null,
   "metadata": {},
   "outputs": [],
   "source": []
  },
  {
   "cell_type": "code",
   "execution_count": null,
   "metadata": {},
   "outputs": [],
   "source": []
  },
  {
   "cell_type": "code",
   "execution_count": null,
   "metadata": {},
   "outputs": [],
   "source": []
  },
  {
   "cell_type": "code",
   "execution_count": null,
   "metadata": {},
   "outputs": [],
   "source": []
  },
  {
   "cell_type": "code",
   "execution_count": null,
   "metadata": {},
   "outputs": [],
   "source": []
  },
  {
   "cell_type": "code",
   "execution_count": null,
   "metadata": {},
   "outputs": [],
   "source": []
  },
  {
   "cell_type": "code",
   "execution_count": null,
   "metadata": {},
   "outputs": [],
   "source": []
  }
 ],
 "metadata": {
  "kernelspec": {
   "display_name": "Python 3",
   "language": "python",
   "name": "python3"
  },
  "language_info": {
   "codemirror_mode": {
    "name": "ipython",
    "version": 3
   },
   "file_extension": ".py",
   "mimetype": "text/x-python",
   "name": "python",
   "nbconvert_exporter": "python",
   "pygments_lexer": "ipython3",
   "version": "3.6.5"
  }
 },
 "nbformat": 4,
 "nbformat_minor": 2
}
