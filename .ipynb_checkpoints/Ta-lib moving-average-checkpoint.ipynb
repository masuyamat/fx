{
 "cells": [
  {
   "cell_type": "code",
   "execution_count": 55,
   "metadata": {},
   "outputs": [],
   "source": [
    "import pandas as pd\n",
    "import numpy as np\n",
    "import talib as ta\n",
    "import seaborn\n",
    "import time\n",
    "import matplotlib as mpl\n",
    "import matplotlib.pyplot as plt\n",
    "import datetime\n",
    "ta.get_function_groups\n",
    "%matplotlib qt"
   ]
  },
  {
   "cell_type": "code",
   "execution_count": 99,
   "metadata": {},
   "outputs": [],
   "source": [
    "# # 図示用のモジュールをインストール\n",
    "# import numpy as np\n",
    "# import matplotlib.pyplot as plt\n",
    "# import mpl_finance as mpf\n",
    "# from matplotlib import ticker\n",
    "# import matplotlib.dates as mdates\n",
    "# import pandas as pd"
   ]
  },
  {
   "cell_type": "code",
   "execution_count": 100,
   "metadata": {},
   "outputs": [
    {
     "data": {
      "text/plain": [
       "pandas.core.frame.DataFrame"
      ]
     },
     "execution_count": 100,
     "metadata": {},
     "output_type": "execute_result"
    }
   ],
   "source": [
    "# データの読み込み\n",
    "masta = pd.read_csv(\"api-usdjpy-D1.csv\")\n",
    "df = masta.copy()\n",
    "\n",
    "# データの日付をインデックスとして扱う\n",
    "df.index = pd.to_datetime(df.time)\n",
    "\n",
    "#不要な列を削除\n",
    "del df['volume']\n",
    "del df['time']\n",
    "type(df)"
   ]
  },
  {
   "cell_type": "code",
   "execution_count": 101,
   "metadata": {},
   "outputs": [],
   "source": [
    "# 5日単純移動平均\n",
    "sma5 = ta.SMA(df.close, timeperiod=5)\n",
    "df['sma5']=sma5 # sma5という列をdfに追加\n",
    "\n",
    "# 25日単純移動平均\n",
    "sma25 = ta.SMA(df.close, timeperiod=25)\n",
    "df['sma25'] = sma25"
   ]
  },
  {
   "cell_type": "code",
   "execution_count": 102,
   "metadata": {},
   "outputs": [],
   "source": [
    "# SMAと終値のplt\n",
    "y_close = df['close']\n",
    "y_sma5 = df['sma5']\n",
    "y_sma25 = df['sma25']\n",
    "\n",
    "# y軸を追加していく\n",
    "plt.plot(y_close, label='close')\n",
    "plt.plot(y_sma5, label='sma5')\n",
    "plt.plot(y_sma25, label='sma25')\n",
    "\n",
    "# 凡例を追加\n",
    "plt.legend(loc='lower left')\n",
    "\n",
    "# add grid line\n",
    "plt.grid()\n",
    "\n",
    "# plot\n",
    "plt.show()"
   ]
  },
  {
   "cell_type": "code",
   "execution_count": 103,
   "metadata": {},
   "outputs": [],
   "source": [
    "# 短期(5日)移動平均と長期(25日)移動平均の差を求める\n",
    "df['diff'] = df['sma5'] - df['sma25']"
   ]
  },
  {
   "cell_type": "code",
   "execution_count": 104,
   "metadata": {},
   "outputs": [
    {
     "name": "stderr",
     "output_type": "stream",
     "text": [
      "C:\\Users\\masu\\Anaconda3\\lib\\site-packages\\ipykernel_launcher.py:1: RuntimeWarning: invalid value encountered in sign\n",
      "  \"\"\"Entry point for launching an IPython kernel.\n"
     ]
    }
   ],
   "source": [
    "asign = np.sign(df['diff'])\n",
    " \n",
    "sz = asign == 0\n",
    "while sz.any():\n",
    "    asign[sz] = np.roll(asign, 1)[sz]\n",
    "    sz = asign == 0\n",
    " \n",
    "# signchange = ((np.roll(asign, 1) - asign) == -2).astype(int)\n",
    "# df['cross'] = signchange"
   ]
  },
  {
   "cell_type": "code",
   "execution_count": null,
   "metadata": {},
   "outputs": [],
   "source": []
  }
 ],
 "metadata": {
  "kernelspec": {
   "display_name": "Python 3",
   "language": "python",
   "name": "python3"
  },
  "language_info": {
   "codemirror_mode": {
    "name": "ipython",
    "version": 3
   },
   "file_extension": ".py",
   "mimetype": "text/x-python",
   "name": "python",
   "nbconvert_exporter": "python",
   "pygments_lexer": "ipython3",
   "version": "3.6.5"
  }
 },
 "nbformat": 4,
 "nbformat_minor": 2
}
